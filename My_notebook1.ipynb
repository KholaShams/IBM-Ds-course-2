{
 "cells": [
  {
   "cell_type": "markdown",
   "metadata": {},
   "source": [
    "<center>\n",
    "    <img src=\"https://cf-courses-data.s3.us.cloud-object-storage.appdomain.cloud/IBMDeveloperSkillsNetwork-DS0105EN-SkillsNetwork/labs/Module2/images/SN_web_lightmode.png\" width=\"300\" alt=\"cognitiveclass.ai logo\">\n",
    "</center>\n"
   ]
  },
  {
   "cell_type": "markdown",
   "metadata": {},
   "source": [
    "#### Add your code below following the instructions given in the course\n"
   ]
  },
  {
   "cell_type": "markdown",
   "metadata": {},
   "source": [
    "My_notebook 1"
   ]
  },
  {
   "cell_type": "markdown",
   "metadata": {},
   "source": [
    "Introduciton...\n",
    "Hello. I am here trying to learn Data science."
   ]
  },
  {
   "cell_type": "markdown",
   "metadata": {},
   "source": [
    "There are various languages that are used in data science\n",
    "The three most common ones are \n",
    "python\n",
    "R\n",
    "SQL\n",
    "However, you can also use \n",
    "Scala\n",
    "Java\n",
    "c++\n",
    "julia\n",
    "Javascript\n",
    "PHP\n",
    "ruby\n",
    "Go \n",
    "Visualbasic"
   ]
  },
  {
   "cell_type": "markdown",
   "metadata": {},
   "source": [
    "Data science libraries are:\n",
    "    python libraries:\n",
    "        pandas, NumPy, Matpotlib, Seaborn, Sci-kit learn, Keras, Tensorflow, PyTorch, Apache Spark,  scala libraries like vegas, DL, R libraries like ggplot, "
   ]
  },
  {
   "cell_type": "code",
   "execution_count": 3,
   "metadata": {},
   "outputs": [
    {
     "data": {
      "text/plain": [
       "2"
      ]
     },
     "execution_count": 3,
     "metadata": {},
     "output_type": "execute_result"
    }
   ],
   "source": [
    "1 + 1"
   ]
  },
  {
   "cell_type": "code",
   "execution_count": 4,
   "metadata": {},
   "outputs": [
    {
     "name": "stdout",
     "output_type": "stream",
     "text": [
      "16\n"
     ]
    }
   ],
   "source": [
    "# cell for multiplying and adding values\n",
    "num1 = 1\n",
    "num2 = 3\n",
    "num3 = 4\n",
    "print ((num1 + num2) * num3)"
   ]
  },
  {
   "cell_type": "code",
   "execution_count": 9,
   "metadata": {},
   "outputs": [
    {
     "name": "stdout",
     "output_type": "stream",
     "text": [
      "seconds value in hours: 2\n",
      "seconds value in minutes: 46\n",
      "Time in preferred format :- 02:46:40\n"
     ]
    }
   ],
   "source": [
    "\n",
    "\n",
    "x = 10000\n",
    "def convert(sec):\n",
    "   sec = sec % (24 * 3600)\n",
    "   hour = sec // 3600\n",
    "   sec %= 3600\n",
    "   min = sec // 60\n",
    "   sec %= 60\n",
    "   print(\"seconds value in hours:\",hour)\n",
    "   print(\"seconds value in minutes:\",min)\n",
    "   return \"%02d:%02d:%02d\" % (hour, min, sec) \n",
    "print(\"Time in preferred format :-\",convert(x))\n"
   ]
  },
  {
   "cell_type": "markdown",
   "metadata": {},
   "source": [
    "Objectives:\n",
    "    sec, hour, min, convert(), x"
   ]
  },
  {
   "cell_type": "markdown",
   "metadata": {},
   "source": [
    "Author name: Khola Shams"
   ]
  }
 ],
 "metadata": {
  "kernelspec": {
   "display_name": "Python 3 (ipykernel)",
   "language": "python",
   "name": "python3"
  },
  "language_info": {
   "codemirror_mode": {
    "name": "ipython",
    "version": 3
   },
   "file_extension": ".py",
   "mimetype": "text/x-python",
   "name": "python",
   "nbconvert_exporter": "python",
   "pygments_lexer": "ipython3",
   "version": "3.9.7"
  }
 },
 "nbformat": 4,
 "nbformat_minor": 4
}
